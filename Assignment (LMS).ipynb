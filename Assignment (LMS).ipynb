{
 "cells": [
  {
   "cell_type": "code",
   "execution_count": 1,
   "id": "051f2c6d",
   "metadata": {},
   "outputs": [],
   "source": [
    "#importing libraries \n",
    "import numpy as np\n",
    "import pandas as pd\n",
    "import matplotlib.pyplot as plt\n",
    "import seaborn as sns"
   ]
  },
  {
   "cell_type": "code",
   "execution_count": 2,
   "id": "9350248a",
   "metadata": {},
   "outputs": [
    {
     "name": "stderr",
     "output_type": "stream",
     "text": [
      "C:\\Users\\bsdri\\anaconda3\\lib\\site-packages\\IPython\\core\\interactiveshell.py:3444: DtypeWarning: Columns (0) have mixed types.Specify dtype option on import or set low_memory=False.\n",
      "  exec(code_obj, self.user_global_ns, self.user_ns)\n"
     ]
    }
   ],
   "source": [
    "#uploading the csv file\n",
    "d=pd.read_csv(\"Lmsdata.csv\")"
   ]
  },
  {
   "cell_type": "code",
   "execution_count": 3,
   "id": "06842a32",
   "metadata": {},
   "outputs": [
    {
     "data": {
      "text/html": [
       "<div>\n",
       "<style scoped>\n",
       "    .dataframe tbody tr th:only-of-type {\n",
       "        vertical-align: middle;\n",
       "    }\n",
       "\n",
       "    .dataframe tbody tr th {\n",
       "        vertical-align: top;\n",
       "    }\n",
       "\n",
       "    .dataframe thead th {\n",
       "        text-align: right;\n",
       "    }\n",
       "</style>\n",
       "<table border=\"1\" class=\"dataframe\">\n",
       "  <thead>\n",
       "    <tr style=\"text-align: right;\">\n",
       "      <th></th>\n",
       "      <th>grade</th>\n",
       "      <th>sessionid</th>\n",
       "      <th>state</th>\n",
       "      <th>districtname</th>\n",
       "      <th>schoolname</th>\n",
       "      <th>classname</th>\n",
       "      <th>subject</th>\n",
       "      <th>course</th>\n",
       "      <th>userroletype</th>\n",
       "      <th>userid</th>\n",
       "      <th>contentid</th>\n",
       "      <th>contenttype</th>\n",
       "      <th>timestamp</th>\n",
       "      <th>eventtype</th>\n",
       "    </tr>\n",
       "  </thead>\n",
       "  <tbody>\n",
       "    <tr>\n",
       "      <th>0</th>\n",
       "      <td>K</td>\n",
       "      <td>session_1</td>\n",
       "      <td>Texas</td>\n",
       "      <td>districtname_5</td>\n",
       "      <td>schoolname_8</td>\n",
       "      <td>classname_92</td>\n",
       "      <td>Math</td>\n",
       "      <td>Math Grades K-2 Grade K</td>\n",
       "      <td>Student</td>\n",
       "      <td>userid_486</td>\n",
       "      <td>content_29</td>\n",
       "      <td>Lesson</td>\n",
       "      <td>2018-11-12T15:49:04Z</td>\n",
       "      <td>view</td>\n",
       "    </tr>\n",
       "    <tr>\n",
       "      <th>1</th>\n",
       "      <td>K</td>\n",
       "      <td>session_1</td>\n",
       "      <td>Texas</td>\n",
       "      <td>districtname_5</td>\n",
       "      <td>schoolname_8</td>\n",
       "      <td>classname_92</td>\n",
       "      <td>Math</td>\n",
       "      <td>Math Grades K-2 Grade K</td>\n",
       "      <td>Student</td>\n",
       "      <td>userid_486</td>\n",
       "      <td>content_32</td>\n",
       "      <td>Lesson</td>\n",
       "      <td>2018-11-12T16:01:40Z</td>\n",
       "      <td>view</td>\n",
       "    </tr>\n",
       "    <tr>\n",
       "      <th>2</th>\n",
       "      <td>K</td>\n",
       "      <td>session_2</td>\n",
       "      <td>Texas</td>\n",
       "      <td>districtname_5</td>\n",
       "      <td>schoolname_8</td>\n",
       "      <td>classname_92</td>\n",
       "      <td>Math</td>\n",
       "      <td>Math Grades K-2 Grade K</td>\n",
       "      <td>Student</td>\n",
       "      <td>userid_486</td>\n",
       "      <td>content_38</td>\n",
       "      <td>Video</td>\n",
       "      <td>2019-01-09T06:27:25Z</td>\n",
       "      <td>view</td>\n",
       "    </tr>\n",
       "    <tr>\n",
       "      <th>3</th>\n",
       "      <td>K</td>\n",
       "      <td>session_2</td>\n",
       "      <td>Texas</td>\n",
       "      <td>districtname_5</td>\n",
       "      <td>schoolname_8</td>\n",
       "      <td>classname_92</td>\n",
       "      <td>Math</td>\n",
       "      <td>Math Grades K-2 Grade K</td>\n",
       "      <td>Student</td>\n",
       "      <td>userid_486</td>\n",
       "      <td>content_40</td>\n",
       "      <td>Lesson</td>\n",
       "      <td>2019-01-09T06:35:30Z</td>\n",
       "      <td>view</td>\n",
       "    </tr>\n",
       "    <tr>\n",
       "      <th>4</th>\n",
       "      <td>K</td>\n",
       "      <td>session_2</td>\n",
       "      <td>Texas</td>\n",
       "      <td>districtname_5</td>\n",
       "      <td>schoolname_8</td>\n",
       "      <td>classname_92</td>\n",
       "      <td>Math</td>\n",
       "      <td>Math Grades K-2 Grade K</td>\n",
       "      <td>Student</td>\n",
       "      <td>userid_486</td>\n",
       "      <td>content_41</td>\n",
       "      <td>Lesson</td>\n",
       "      <td>2019-01-09T06:35:35Z</td>\n",
       "      <td>view</td>\n",
       "    </tr>\n",
       "  </tbody>\n",
       "</table>\n",
       "</div>"
      ],
      "text/plain": [
       "  grade  sessionid  state    districtname    schoolname     classname subject  \\\n",
       "0     K  session_1  Texas  districtname_5  schoolname_8  classname_92    Math   \n",
       "1     K  session_1  Texas  districtname_5  schoolname_8  classname_92    Math   \n",
       "2     K  session_2  Texas  districtname_5  schoolname_8  classname_92    Math   \n",
       "3     K  session_2  Texas  districtname_5  schoolname_8  classname_92    Math   \n",
       "4     K  session_2  Texas  districtname_5  schoolname_8  classname_92    Math   \n",
       "\n",
       "                    course userroletype      userid   contentid contenttype  \\\n",
       "0  Math Grades K-2 Grade K      Student  userid_486  content_29      Lesson   \n",
       "1  Math Grades K-2 Grade K      Student  userid_486  content_32      Lesson   \n",
       "2  Math Grades K-2 Grade K      Student  userid_486  content_38       Video   \n",
       "3  Math Grades K-2 Grade K      Student  userid_486  content_40      Lesson   \n",
       "4  Math Grades K-2 Grade K      Student  userid_486  content_41      Lesson   \n",
       "\n",
       "              timestamp eventtype  \n",
       "0  2018-11-12T15:49:04Z      view  \n",
       "1  2018-11-12T16:01:40Z      view  \n",
       "2  2019-01-09T06:27:25Z      view  \n",
       "3  2019-01-09T06:35:30Z      view  \n",
       "4  2019-01-09T06:35:35Z      view  "
      ]
     },
     "execution_count": 3,
     "metadata": {},
     "output_type": "execute_result"
    }
   ],
   "source": [
    "d.head()"
   ]
  },
  {
   "cell_type": "code",
   "execution_count": 4,
   "id": "d4a7b297",
   "metadata": {},
   "outputs": [
    {
     "data": {
      "text/html": [
       "<div>\n",
       "<style scoped>\n",
       "    .dataframe tbody tr th:only-of-type {\n",
       "        vertical-align: middle;\n",
       "    }\n",
       "\n",
       "    .dataframe tbody tr th {\n",
       "        vertical-align: top;\n",
       "    }\n",
       "\n",
       "    .dataframe thead th {\n",
       "        text-align: right;\n",
       "    }\n",
       "</style>\n",
       "<table border=\"1\" class=\"dataframe\">\n",
       "  <thead>\n",
       "    <tr style=\"text-align: right;\">\n",
       "      <th></th>\n",
       "      <th>grade</th>\n",
       "      <th>sessionid</th>\n",
       "      <th>state</th>\n",
       "      <th>districtname</th>\n",
       "      <th>schoolname</th>\n",
       "      <th>classname</th>\n",
       "      <th>subject</th>\n",
       "      <th>course</th>\n",
       "      <th>userroletype</th>\n",
       "      <th>userid</th>\n",
       "      <th>contentid</th>\n",
       "      <th>contenttype</th>\n",
       "      <th>timestamp</th>\n",
       "      <th>eventtype</th>\n",
       "    </tr>\n",
       "  </thead>\n",
       "  <tbody>\n",
       "    <tr>\n",
       "      <th>0</th>\n",
       "      <td>K</td>\n",
       "      <td>session_1</td>\n",
       "      <td>Texas</td>\n",
       "      <td>districtname_5</td>\n",
       "      <td>schoolname_8</td>\n",
       "      <td>classname_92</td>\n",
       "      <td>Math</td>\n",
       "      <td>Math Grades K-2 Grade K</td>\n",
       "      <td>Student</td>\n",
       "      <td>userid_486</td>\n",
       "      <td>content_29</td>\n",
       "      <td>Lesson</td>\n",
       "      <td>2018-11-12T15:49:04Z</td>\n",
       "      <td>view</td>\n",
       "    </tr>\n",
       "    <tr>\n",
       "      <th>1</th>\n",
       "      <td>K</td>\n",
       "      <td>session_1</td>\n",
       "      <td>Texas</td>\n",
       "      <td>districtname_5</td>\n",
       "      <td>schoolname_8</td>\n",
       "      <td>classname_92</td>\n",
       "      <td>Math</td>\n",
       "      <td>Math Grades K-2 Grade K</td>\n",
       "      <td>Student</td>\n",
       "      <td>userid_486</td>\n",
       "      <td>content_32</td>\n",
       "      <td>Lesson</td>\n",
       "      <td>2018-11-12T16:01:40Z</td>\n",
       "      <td>view</td>\n",
       "    </tr>\n",
       "    <tr>\n",
       "      <th>2</th>\n",
       "      <td>K</td>\n",
       "      <td>session_2</td>\n",
       "      <td>Texas</td>\n",
       "      <td>districtname_5</td>\n",
       "      <td>schoolname_8</td>\n",
       "      <td>classname_92</td>\n",
       "      <td>Math</td>\n",
       "      <td>Math Grades K-2 Grade K</td>\n",
       "      <td>Student</td>\n",
       "      <td>userid_486</td>\n",
       "      <td>content_38</td>\n",
       "      <td>Video</td>\n",
       "      <td>2019-01-09T06:27:25Z</td>\n",
       "      <td>view</td>\n",
       "    </tr>\n",
       "    <tr>\n",
       "      <th>3</th>\n",
       "      <td>K</td>\n",
       "      <td>session_2</td>\n",
       "      <td>Texas</td>\n",
       "      <td>districtname_5</td>\n",
       "      <td>schoolname_8</td>\n",
       "      <td>classname_92</td>\n",
       "      <td>Math</td>\n",
       "      <td>Math Grades K-2 Grade K</td>\n",
       "      <td>Student</td>\n",
       "      <td>userid_486</td>\n",
       "      <td>content_40</td>\n",
       "      <td>Lesson</td>\n",
       "      <td>2019-01-09T06:35:30Z</td>\n",
       "      <td>view</td>\n",
       "    </tr>\n",
       "    <tr>\n",
       "      <th>4</th>\n",
       "      <td>K</td>\n",
       "      <td>session_2</td>\n",
       "      <td>Texas</td>\n",
       "      <td>districtname_5</td>\n",
       "      <td>schoolname_8</td>\n",
       "      <td>classname_92</td>\n",
       "      <td>Math</td>\n",
       "      <td>Math Grades K-2 Grade K</td>\n",
       "      <td>Student</td>\n",
       "      <td>userid_486</td>\n",
       "      <td>content_41</td>\n",
       "      <td>Lesson</td>\n",
       "      <td>2019-01-09T06:35:35Z</td>\n",
       "      <td>view</td>\n",
       "    </tr>\n",
       "  </tbody>\n",
       "</table>\n",
       "</div>"
      ],
      "text/plain": [
       "  grade  sessionid  state    districtname    schoolname     classname subject  \\\n",
       "0     K  session_1  Texas  districtname_5  schoolname_8  classname_92    Math   \n",
       "1     K  session_1  Texas  districtname_5  schoolname_8  classname_92    Math   \n",
       "2     K  session_2  Texas  districtname_5  schoolname_8  classname_92    Math   \n",
       "3     K  session_2  Texas  districtname_5  schoolname_8  classname_92    Math   \n",
       "4     K  session_2  Texas  districtname_5  schoolname_8  classname_92    Math   \n",
       "\n",
       "                    course userroletype      userid   contentid contenttype  \\\n",
       "0  Math Grades K-2 Grade K      Student  userid_486  content_29      Lesson   \n",
       "1  Math Grades K-2 Grade K      Student  userid_486  content_32      Lesson   \n",
       "2  Math Grades K-2 Grade K      Student  userid_486  content_38       Video   \n",
       "3  Math Grades K-2 Grade K      Student  userid_486  content_40      Lesson   \n",
       "4  Math Grades K-2 Grade K      Student  userid_486  content_41      Lesson   \n",
       "\n",
       "              timestamp eventtype  \n",
       "0  2018-11-12T15:49:04Z      view  \n",
       "1  2018-11-12T16:01:40Z      view  \n",
       "2  2019-01-09T06:27:25Z      view  \n",
       "3  2019-01-09T06:35:30Z      view  \n",
       "4  2019-01-09T06:35:35Z      view  "
      ]
     },
     "execution_count": 4,
     "metadata": {},
     "output_type": "execute_result"
    }
   ],
   "source": [
    "#converting csv file to dataframe using pandas\n",
    "\n",
    "df=pd.DataFrame(d)\n",
    "df.head()"
   ]
  },
  {
   "cell_type": "code",
   "execution_count": 5,
   "id": "da773f4d",
   "metadata": {},
   "outputs": [
    {
     "data": {
      "text/plain": [
       "(558876, 14)"
      ]
     },
     "execution_count": 5,
     "metadata": {},
     "output_type": "execute_result"
    }
   ],
   "source": [
    "#size of csv file (rows, columns)\n",
    "df.shape"
   ]
  },
  {
   "cell_type": "code",
   "execution_count": null,
   "id": "3f50fb99",
   "metadata": {},
   "outputs": [],
   "source": [
    "\n"
   ]
  },
  {
   "cell_type": "code",
   "execution_count": 6,
   "id": "80633921",
   "metadata": {},
   "outputs": [],
   "source": [
    "df['timestamp']=pd.to_datetime(df['timestamp'])"
   ]
  },
  {
   "cell_type": "code",
   "execution_count": 7,
   "id": "78a27e48",
   "metadata": {},
   "outputs": [
    {
     "data": {
      "text/plain": [
       "grade                        object\n",
       "sessionid                    object\n",
       "state                        object\n",
       "districtname                 object\n",
       "schoolname                   object\n",
       "classname                    object\n",
       "subject                      object\n",
       "course                       object\n",
       "userroletype                 object\n",
       "userid                       object\n",
       "contentid                    object\n",
       "contenttype                  object\n",
       "timestamp       datetime64[ns, UTC]\n",
       "eventtype                    object\n",
       "dtype: object"
      ]
     },
     "execution_count": 7,
     "metadata": {},
     "output_type": "execute_result"
    }
   ],
   "source": [
    "df.dtypes"
   ]
  },
  {
   "cell_type": "code",
   "execution_count": 8,
   "id": "d4122c8b",
   "metadata": {},
   "outputs": [
    {
     "data": {
      "text/html": [
       "<div>\n",
       "<style scoped>\n",
       "    .dataframe tbody tr th:only-of-type {\n",
       "        vertical-align: middle;\n",
       "    }\n",
       "\n",
       "    .dataframe tbody tr th {\n",
       "        vertical-align: top;\n",
       "    }\n",
       "\n",
       "    .dataframe thead th {\n",
       "        text-align: right;\n",
       "    }\n",
       "</style>\n",
       "<table border=\"1\" class=\"dataframe\">\n",
       "  <thead>\n",
       "    <tr style=\"text-align: right;\">\n",
       "      <th></th>\n",
       "      <th>grade</th>\n",
       "      <th>sessionid</th>\n",
       "      <th>state</th>\n",
       "      <th>districtname</th>\n",
       "      <th>schoolname</th>\n",
       "      <th>classname</th>\n",
       "      <th>subject</th>\n",
       "      <th>course</th>\n",
       "      <th>userroletype</th>\n",
       "      <th>userid</th>\n",
       "      <th>contentid</th>\n",
       "      <th>contenttype</th>\n",
       "      <th>eventtype</th>\n",
       "      <th>month</th>\n",
       "      <th>year</th>\n",
       "      <th>time</th>\n",
       "      <th>d-m-y</th>\n",
       "    </tr>\n",
       "  </thead>\n",
       "  <tbody>\n",
       "    <tr>\n",
       "      <th>0</th>\n",
       "      <td>K</td>\n",
       "      <td>session_1</td>\n",
       "      <td>Texas</td>\n",
       "      <td>districtname_5</td>\n",
       "      <td>schoolname_8</td>\n",
       "      <td>classname_92</td>\n",
       "      <td>Math</td>\n",
       "      <td>Math</td>\n",
       "      <td>Student</td>\n",
       "      <td>userid_486</td>\n",
       "      <td>content_29</td>\n",
       "      <td>Lesson</td>\n",
       "      <td>view</td>\n",
       "      <td>11</td>\n",
       "      <td>2018</td>\n",
       "      <td>15:49:04</td>\n",
       "      <td>2018-11-12</td>\n",
       "    </tr>\n",
       "    <tr>\n",
       "      <th>1</th>\n",
       "      <td>K</td>\n",
       "      <td>session_1</td>\n",
       "      <td>Texas</td>\n",
       "      <td>districtname_5</td>\n",
       "      <td>schoolname_8</td>\n",
       "      <td>classname_92</td>\n",
       "      <td>Math</td>\n",
       "      <td>Math</td>\n",
       "      <td>Student</td>\n",
       "      <td>userid_486</td>\n",
       "      <td>content_32</td>\n",
       "      <td>Lesson</td>\n",
       "      <td>view</td>\n",
       "      <td>11</td>\n",
       "      <td>2018</td>\n",
       "      <td>16:01:40</td>\n",
       "      <td>2018-11-12</td>\n",
       "    </tr>\n",
       "    <tr>\n",
       "      <th>2</th>\n",
       "      <td>K</td>\n",
       "      <td>session_2</td>\n",
       "      <td>Texas</td>\n",
       "      <td>districtname_5</td>\n",
       "      <td>schoolname_8</td>\n",
       "      <td>classname_92</td>\n",
       "      <td>Math</td>\n",
       "      <td>Math</td>\n",
       "      <td>Student</td>\n",
       "      <td>userid_486</td>\n",
       "      <td>content_38</td>\n",
       "      <td>Video</td>\n",
       "      <td>view</td>\n",
       "      <td>1</td>\n",
       "      <td>2019</td>\n",
       "      <td>06:27:25</td>\n",
       "      <td>2019-01-09</td>\n",
       "    </tr>\n",
       "    <tr>\n",
       "      <th>3</th>\n",
       "      <td>K</td>\n",
       "      <td>session_2</td>\n",
       "      <td>Texas</td>\n",
       "      <td>districtname_5</td>\n",
       "      <td>schoolname_8</td>\n",
       "      <td>classname_92</td>\n",
       "      <td>Math</td>\n",
       "      <td>Math</td>\n",
       "      <td>Student</td>\n",
       "      <td>userid_486</td>\n",
       "      <td>content_40</td>\n",
       "      <td>Lesson</td>\n",
       "      <td>view</td>\n",
       "      <td>1</td>\n",
       "      <td>2019</td>\n",
       "      <td>06:35:30</td>\n",
       "      <td>2019-01-09</td>\n",
       "    </tr>\n",
       "    <tr>\n",
       "      <th>4</th>\n",
       "      <td>K</td>\n",
       "      <td>session_2</td>\n",
       "      <td>Texas</td>\n",
       "      <td>districtname_5</td>\n",
       "      <td>schoolname_8</td>\n",
       "      <td>classname_92</td>\n",
       "      <td>Math</td>\n",
       "      <td>Math</td>\n",
       "      <td>Student</td>\n",
       "      <td>userid_486</td>\n",
       "      <td>content_41</td>\n",
       "      <td>Lesson</td>\n",
       "      <td>view</td>\n",
       "      <td>1</td>\n",
       "      <td>2019</td>\n",
       "      <td>06:35:35</td>\n",
       "      <td>2019-01-09</td>\n",
       "    </tr>\n",
       "  </tbody>\n",
       "</table>\n",
       "</div>"
      ],
      "text/plain": [
       "  grade  sessionid  state    districtname    schoolname     classname subject  \\\n",
       "0     K  session_1  Texas  districtname_5  schoolname_8  classname_92    Math   \n",
       "1     K  session_1  Texas  districtname_5  schoolname_8  classname_92    Math   \n",
       "2     K  session_2  Texas  districtname_5  schoolname_8  classname_92    Math   \n",
       "3     K  session_2  Texas  districtname_5  schoolname_8  classname_92    Math   \n",
       "4     K  session_2  Texas  districtname_5  schoolname_8  classname_92    Math   \n",
       "\n",
       "  course userroletype      userid   contentid contenttype eventtype  month  \\\n",
       "0   Math      Student  userid_486  content_29      Lesson      view     11   \n",
       "1   Math      Student  userid_486  content_32      Lesson      view     11   \n",
       "2   Math      Student  userid_486  content_38       Video      view      1   \n",
       "3   Math      Student  userid_486  content_40      Lesson      view      1   \n",
       "4   Math      Student  userid_486  content_41      Lesson      view      1   \n",
       "\n",
       "   year      time       d-m-y  \n",
       "0  2018  15:49:04  2018-11-12  \n",
       "1  2018  16:01:40  2018-11-12  \n",
       "2  2019  06:27:25  2019-01-09  \n",
       "3  2019  06:35:30  2019-01-09  \n",
       "4  2019  06:35:35  2019-01-09  "
      ]
     },
     "execution_count": 8,
     "metadata": {},
     "output_type": "execute_result"
    }
   ],
   "source": [
    "#splitting data from columns\n",
    "\n",
    "df['course']=df['course'].apply(lambda x: x.split(' ')[0])\n",
    "df['month']=pd.DatetimeIndex(df['timestamp']).month\n",
    "df['year']=pd.DatetimeIndex(df['timestamp']).year\n",
    "df['time']=pd.DatetimeIndex(df['timestamp']).time\n",
    "df['d-m-y']=pd.DatetimeIndex(df['timestamp']).date\n",
    "\n",
    "#droping column\n",
    "df1=df.drop(['timestamp'], axis= 'columns')\n",
    "df1.head()\n"
   ]
  },
  {
   "cell_type": "code",
   "execution_count": 9,
   "id": "805cf058",
   "metadata": {},
   "outputs": [
    {
     "data": {
      "text/html": [
       "<div>\n",
       "<style scoped>\n",
       "    .dataframe tbody tr th:only-of-type {\n",
       "        vertical-align: middle;\n",
       "    }\n",
       "\n",
       "    .dataframe tbody tr th {\n",
       "        vertical-align: top;\n",
       "    }\n",
       "\n",
       "    .dataframe thead th {\n",
       "        text-align: right;\n",
       "    }\n",
       "</style>\n",
       "<table border=\"1\" class=\"dataframe\">\n",
       "  <thead>\n",
       "    <tr style=\"text-align: right;\">\n",
       "      <th></th>\n",
       "      <th>grade</th>\n",
       "      <th>sessionid</th>\n",
       "      <th>state</th>\n",
       "      <th>districtname</th>\n",
       "      <th>schoolname</th>\n",
       "      <th>classname</th>\n",
       "      <th>subject</th>\n",
       "      <th>course</th>\n",
       "      <th>userroletype</th>\n",
       "      <th>userid</th>\n",
       "      <th>...</th>\n",
       "      <th>a</th>\n",
       "      <th>district_name</th>\n",
       "      <th>b</th>\n",
       "      <th>school_name</th>\n",
       "      <th>c</th>\n",
       "      <th>class_name</th>\n",
       "      <th>d</th>\n",
       "      <th>user_id</th>\n",
       "      <th>e</th>\n",
       "      <th>content_id</th>\n",
       "    </tr>\n",
       "  </thead>\n",
       "  <tbody>\n",
       "    <tr>\n",
       "      <th>0</th>\n",
       "      <td>K</td>\n",
       "      <td>session_1</td>\n",
       "      <td>Texas</td>\n",
       "      <td>districtname_5</td>\n",
       "      <td>schoolname_8</td>\n",
       "      <td>classname_92</td>\n",
       "      <td>Math</td>\n",
       "      <td>Math</td>\n",
       "      <td>Student</td>\n",
       "      <td>userid_486</td>\n",
       "      <td>...</td>\n",
       "      <td>districtname</td>\n",
       "      <td>5</td>\n",
       "      <td>schoolname</td>\n",
       "      <td>8</td>\n",
       "      <td>classname</td>\n",
       "      <td>92</td>\n",
       "      <td>userid</td>\n",
       "      <td>486</td>\n",
       "      <td>content</td>\n",
       "      <td>29</td>\n",
       "    </tr>\n",
       "    <tr>\n",
       "      <th>1</th>\n",
       "      <td>K</td>\n",
       "      <td>session_1</td>\n",
       "      <td>Texas</td>\n",
       "      <td>districtname_5</td>\n",
       "      <td>schoolname_8</td>\n",
       "      <td>classname_92</td>\n",
       "      <td>Math</td>\n",
       "      <td>Math</td>\n",
       "      <td>Student</td>\n",
       "      <td>userid_486</td>\n",
       "      <td>...</td>\n",
       "      <td>districtname</td>\n",
       "      <td>5</td>\n",
       "      <td>schoolname</td>\n",
       "      <td>8</td>\n",
       "      <td>classname</td>\n",
       "      <td>92</td>\n",
       "      <td>userid</td>\n",
       "      <td>486</td>\n",
       "      <td>content</td>\n",
       "      <td>32</td>\n",
       "    </tr>\n",
       "    <tr>\n",
       "      <th>2</th>\n",
       "      <td>K</td>\n",
       "      <td>session_2</td>\n",
       "      <td>Texas</td>\n",
       "      <td>districtname_5</td>\n",
       "      <td>schoolname_8</td>\n",
       "      <td>classname_92</td>\n",
       "      <td>Math</td>\n",
       "      <td>Math</td>\n",
       "      <td>Student</td>\n",
       "      <td>userid_486</td>\n",
       "      <td>...</td>\n",
       "      <td>districtname</td>\n",
       "      <td>5</td>\n",
       "      <td>schoolname</td>\n",
       "      <td>8</td>\n",
       "      <td>classname</td>\n",
       "      <td>92</td>\n",
       "      <td>userid</td>\n",
       "      <td>486</td>\n",
       "      <td>content</td>\n",
       "      <td>38</td>\n",
       "    </tr>\n",
       "    <tr>\n",
       "      <th>3</th>\n",
       "      <td>K</td>\n",
       "      <td>session_2</td>\n",
       "      <td>Texas</td>\n",
       "      <td>districtname_5</td>\n",
       "      <td>schoolname_8</td>\n",
       "      <td>classname_92</td>\n",
       "      <td>Math</td>\n",
       "      <td>Math</td>\n",
       "      <td>Student</td>\n",
       "      <td>userid_486</td>\n",
       "      <td>...</td>\n",
       "      <td>districtname</td>\n",
       "      <td>5</td>\n",
       "      <td>schoolname</td>\n",
       "      <td>8</td>\n",
       "      <td>classname</td>\n",
       "      <td>92</td>\n",
       "      <td>userid</td>\n",
       "      <td>486</td>\n",
       "      <td>content</td>\n",
       "      <td>40</td>\n",
       "    </tr>\n",
       "    <tr>\n",
       "      <th>4</th>\n",
       "      <td>K</td>\n",
       "      <td>session_2</td>\n",
       "      <td>Texas</td>\n",
       "      <td>districtname_5</td>\n",
       "      <td>schoolname_8</td>\n",
       "      <td>classname_92</td>\n",
       "      <td>Math</td>\n",
       "      <td>Math</td>\n",
       "      <td>Student</td>\n",
       "      <td>userid_486</td>\n",
       "      <td>...</td>\n",
       "      <td>districtname</td>\n",
       "      <td>5</td>\n",
       "      <td>schoolname</td>\n",
       "      <td>8</td>\n",
       "      <td>classname</td>\n",
       "      <td>92</td>\n",
       "      <td>userid</td>\n",
       "      <td>486</td>\n",
       "      <td>content</td>\n",
       "      <td>41</td>\n",
       "    </tr>\n",
       "  </tbody>\n",
       "</table>\n",
       "<p>5 rows × 29 columns</p>\n",
       "</div>"
      ],
      "text/plain": [
       "  grade  sessionid  state    districtname    schoolname     classname subject  \\\n",
       "0     K  session_1  Texas  districtname_5  schoolname_8  classname_92    Math   \n",
       "1     K  session_1  Texas  districtname_5  schoolname_8  classname_92    Math   \n",
       "2     K  session_2  Texas  districtname_5  schoolname_8  classname_92    Math   \n",
       "3     K  session_2  Texas  districtname_5  schoolname_8  classname_92    Math   \n",
       "4     K  session_2  Texas  districtname_5  schoolname_8  classname_92    Math   \n",
       "\n",
       "  course userroletype      userid  ...             a district_name  \\\n",
       "0   Math      Student  userid_486  ...  districtname             5   \n",
       "1   Math      Student  userid_486  ...  districtname             5   \n",
       "2   Math      Student  userid_486  ...  districtname             5   \n",
       "3   Math      Student  userid_486  ...  districtname             5   \n",
       "4   Math      Student  userid_486  ...  districtname             5   \n",
       "\n",
       "            b  school_name          c class_name       d user_id        e  \\\n",
       "0  schoolname            8  classname         92  userid     486  content   \n",
       "1  schoolname            8  classname         92  userid     486  content   \n",
       "2  schoolname            8  classname         92  userid     486  content   \n",
       "3  schoolname            8  classname         92  userid     486  content   \n",
       "4  schoolname            8  classname         92  userid     486  content   \n",
       "\n",
       "  content_id  \n",
       "0         29  \n",
       "1         32  \n",
       "2         38  \n",
       "3         40  \n",
       "4         41  \n",
       "\n",
       "[5 rows x 29 columns]"
      ]
     },
     "execution_count": 9,
     "metadata": {},
     "output_type": "execute_result"
    }
   ],
   "source": [
    "# spliting data from columns \n",
    "\n",
    "df1[['f','session_id']]=df1.sessionid.str.split(\"_\",expand=True)\n",
    "df1[['a','district_name']]=df1.districtname.str.split(\"_\",expand=True)\n",
    "df1[['b', 'school_name']]=df1.schoolname.str.split(\"_\", expand = True)\n",
    "df1[['c', 'class_name']]=df1.classname.str.split(\"_\", expand = True)\n",
    "df1[['d', 'user_id']]=df1.userid.str.split(\"_\", expand = True)\n",
    "df1[['e', 'content_id']]=df1.contentid.str.split(\"_\", expand = True)\n",
    "df1.head()"
   ]
  },
  {
   "cell_type": "code",
   "execution_count": 10,
   "id": "c0f7896d",
   "metadata": {},
   "outputs": [
    {
     "data": {
      "text/html": [
       "<div>\n",
       "<style scoped>\n",
       "    .dataframe tbody tr th:only-of-type {\n",
       "        vertical-align: middle;\n",
       "    }\n",
       "\n",
       "    .dataframe tbody tr th {\n",
       "        vertical-align: top;\n",
       "    }\n",
       "\n",
       "    .dataframe thead th {\n",
       "        text-align: right;\n",
       "    }\n",
       "</style>\n",
       "<table border=\"1\" class=\"dataframe\">\n",
       "  <thead>\n",
       "    <tr style=\"text-align: right;\">\n",
       "      <th></th>\n",
       "      <th>grade</th>\n",
       "      <th>state</th>\n",
       "      <th>schoolname</th>\n",
       "      <th>classname</th>\n",
       "      <th>subject</th>\n",
       "      <th>course</th>\n",
       "      <th>userroletype</th>\n",
       "      <th>contenttype</th>\n",
       "      <th>eventtype</th>\n",
       "      <th>month</th>\n",
       "      <th>year</th>\n",
       "      <th>time</th>\n",
       "      <th>d-m-y</th>\n",
       "      <th>session_id</th>\n",
       "      <th>district_name</th>\n",
       "      <th>school_name</th>\n",
       "      <th>class_name</th>\n",
       "      <th>user_id</th>\n",
       "      <th>content_id</th>\n",
       "    </tr>\n",
       "  </thead>\n",
       "  <tbody>\n",
       "    <tr>\n",
       "      <th>0</th>\n",
       "      <td>K</td>\n",
       "      <td>Texas</td>\n",
       "      <td>schoolname_8</td>\n",
       "      <td>classname_92</td>\n",
       "      <td>Math</td>\n",
       "      <td>Math</td>\n",
       "      <td>Student</td>\n",
       "      <td>Lesson</td>\n",
       "      <td>view</td>\n",
       "      <td>11</td>\n",
       "      <td>2018</td>\n",
       "      <td>15:49:04</td>\n",
       "      <td>2018-11-12</td>\n",
       "      <td>1</td>\n",
       "      <td>5</td>\n",
       "      <td>8</td>\n",
       "      <td>92</td>\n",
       "      <td>486</td>\n",
       "      <td>29</td>\n",
       "    </tr>\n",
       "    <tr>\n",
       "      <th>1</th>\n",
       "      <td>K</td>\n",
       "      <td>Texas</td>\n",
       "      <td>schoolname_8</td>\n",
       "      <td>classname_92</td>\n",
       "      <td>Math</td>\n",
       "      <td>Math</td>\n",
       "      <td>Student</td>\n",
       "      <td>Lesson</td>\n",
       "      <td>view</td>\n",
       "      <td>11</td>\n",
       "      <td>2018</td>\n",
       "      <td>16:01:40</td>\n",
       "      <td>2018-11-12</td>\n",
       "      <td>1</td>\n",
       "      <td>5</td>\n",
       "      <td>8</td>\n",
       "      <td>92</td>\n",
       "      <td>486</td>\n",
       "      <td>32</td>\n",
       "    </tr>\n",
       "    <tr>\n",
       "      <th>2</th>\n",
       "      <td>K</td>\n",
       "      <td>Texas</td>\n",
       "      <td>schoolname_8</td>\n",
       "      <td>classname_92</td>\n",
       "      <td>Math</td>\n",
       "      <td>Math</td>\n",
       "      <td>Student</td>\n",
       "      <td>Video</td>\n",
       "      <td>view</td>\n",
       "      <td>1</td>\n",
       "      <td>2019</td>\n",
       "      <td>06:27:25</td>\n",
       "      <td>2019-01-09</td>\n",
       "      <td>2</td>\n",
       "      <td>5</td>\n",
       "      <td>8</td>\n",
       "      <td>92</td>\n",
       "      <td>486</td>\n",
       "      <td>38</td>\n",
       "    </tr>\n",
       "    <tr>\n",
       "      <th>3</th>\n",
       "      <td>K</td>\n",
       "      <td>Texas</td>\n",
       "      <td>schoolname_8</td>\n",
       "      <td>classname_92</td>\n",
       "      <td>Math</td>\n",
       "      <td>Math</td>\n",
       "      <td>Student</td>\n",
       "      <td>Lesson</td>\n",
       "      <td>view</td>\n",
       "      <td>1</td>\n",
       "      <td>2019</td>\n",
       "      <td>06:35:30</td>\n",
       "      <td>2019-01-09</td>\n",
       "      <td>2</td>\n",
       "      <td>5</td>\n",
       "      <td>8</td>\n",
       "      <td>92</td>\n",
       "      <td>486</td>\n",
       "      <td>40</td>\n",
       "    </tr>\n",
       "    <tr>\n",
       "      <th>4</th>\n",
       "      <td>K</td>\n",
       "      <td>Texas</td>\n",
       "      <td>schoolname_8</td>\n",
       "      <td>classname_92</td>\n",
       "      <td>Math</td>\n",
       "      <td>Math</td>\n",
       "      <td>Student</td>\n",
       "      <td>Lesson</td>\n",
       "      <td>view</td>\n",
       "      <td>1</td>\n",
       "      <td>2019</td>\n",
       "      <td>06:35:35</td>\n",
       "      <td>2019-01-09</td>\n",
       "      <td>2</td>\n",
       "      <td>5</td>\n",
       "      <td>8</td>\n",
       "      <td>92</td>\n",
       "      <td>486</td>\n",
       "      <td>41</td>\n",
       "    </tr>\n",
       "  </tbody>\n",
       "</table>\n",
       "</div>"
      ],
      "text/plain": [
       "  grade  state    schoolname     classname subject course userroletype  \\\n",
       "0     K  Texas  schoolname_8  classname_92    Math   Math      Student   \n",
       "1     K  Texas  schoolname_8  classname_92    Math   Math      Student   \n",
       "2     K  Texas  schoolname_8  classname_92    Math   Math      Student   \n",
       "3     K  Texas  schoolname_8  classname_92    Math   Math      Student   \n",
       "4     K  Texas  schoolname_8  classname_92    Math   Math      Student   \n",
       "\n",
       "  contenttype eventtype  month  year      time       d-m-y session_id  \\\n",
       "0      Lesson      view     11  2018  15:49:04  2018-11-12          1   \n",
       "1      Lesson      view     11  2018  16:01:40  2018-11-12          1   \n",
       "2       Video      view      1  2019  06:27:25  2019-01-09          2   \n",
       "3      Lesson      view      1  2019  06:35:30  2019-01-09          2   \n",
       "4      Lesson      view      1  2019  06:35:35  2019-01-09          2   \n",
       "\n",
       "  district_name school_name class_name user_id content_id  \n",
       "0             5           8         92     486         29  \n",
       "1             5           8         92     486         32  \n",
       "2             5           8         92     486         38  \n",
       "3             5           8         92     486         40  \n",
       "4             5           8         92     486         41  "
      ]
     },
     "execution_count": 10,
     "metadata": {},
     "output_type": "execute_result"
    }
   ],
   "source": [
    "#dropping columns\n",
    "df2=df1.drop(['f','a','b','c','d','e','contentid','userid','sessionid','districtname'],axis='columns')\n",
    "df2.head()"
   ]
  },
  {
   "cell_type": "code",
   "execution_count": 11,
   "id": "1ec0c293",
   "metadata": {},
   "outputs": [
    {
     "data": {
      "text/plain": [
       "grade                    object\n",
       "state                    object\n",
       "schoolname               object\n",
       "classname                object\n",
       "subject                  object\n",
       "course                   object\n",
       "userroletype             object\n",
       "contenttype              object\n",
       "eventtype                object\n",
       "month                     int64\n",
       "year                      int64\n",
       "time                     object\n",
       "d-m-y            datetime64[ns]\n",
       "session_id                int64\n",
       "district_name             int64\n",
       "school_name               int64\n",
       "class_name                int64\n",
       "user_id                   int64\n",
       "content_id                int64\n",
       "dtype: object"
      ]
     },
     "execution_count": 11,
     "metadata": {},
     "output_type": "execute_result"
    }
   ],
   "source": [
    "# coverting columns from object to int\n",
    "\n",
    "df2['session_id'] = pd.to_numeric(df2['session_id'])\n",
    "df2['district_name'] = pd.to_numeric(df2['district_name'])\n",
    "df2['school_name'] = pd.to_numeric(df2['school_name'])\n",
    "df2['class_name'] = pd.to_numeric(df2['class_name'])\n",
    "df2['user_id'] = pd.to_numeric(df2['user_id'])\n",
    "df2['content_id'] = pd.to_numeric(df2['content_id'])\n",
    "df2['d-m-y']=pd.to_datetime(df2['d-m-y'])\n",
    "df2.dtypes"
   ]
  },
  {
   "cell_type": "markdown",
   "id": "78811de2",
   "metadata": {},
   "source": [
    "# Question 1 "
   ]
  },
  {
   "cell_type": "code",
   "execution_count": 12,
   "id": "bafc0ed8",
   "metadata": {},
   "outputs": [
    {
     "data": {
      "text/plain": [
       "<AxesSubplot:xlabel='month', ylabel='count'>"
      ]
     },
     "execution_count": 12,
     "metadata": {},
     "output_type": "execute_result"
    },
    {
     "data": {
      "image/png": "[encoded data removed]",
      "text/plain": [
       "<Figure size 432x288 with 1 Axes>"
      ]
     },
     "metadata": {
      "needs_background": "light"
     },
     "output_type": "display_data"
    }
   ],
   "source": [
    "#in which month the most used\n",
    "sns.countplot(x='month',data=df2)"
   ]
  },
  {
   "cell_type": "code",
   "execution_count": 13,
   "id": "435d520f",
   "metadata": {},
   "outputs": [
    {
     "data": {
      "text/plain": [
       "<AxesSubplot:xlabel='year', ylabel='count'>"
      ]
     },
     "execution_count": 13,
     "metadata": {},
     "output_type": "execute_result"
    },
    {
     "data": {
      "image/png": "[encoded data removed]",
      "text/plain": [
       "<Figure size 432x288 with 1 Axes>"
      ]
     },
     "metadata": {
      "needs_background": "light"
     },
     "output_type": "display_data"
    }
   ],
   "source": [
    "#lms use over year\n",
    "sns.countplot(x='year',data=df)"
   ]
  },
  {
   "cell_type": "code",
   "execution_count": 14,
   "id": "8f2ea8cf",
   "metadata": {},
   "outputs": [
    {
     "data": {
      "text/plain": [
       "(array([0, 1, 2, 3, 4, 5, 6, 7, 8, 9]),\n",
       " [Text(0, 0, 'Texas'),\n",
       "  Text(1, 0, 'California'),\n",
       "  Text(2, 0, 'Illinois'),\n",
       "  Text(3, 0, 'Ohio'),\n",
       "  Text(4, 0, 'New Jersey'),\n",
       "  Text(5, 0, 'New York'),\n",
       "  Text(6, 0, 'Pennsylvania'),\n",
       "  Text(7, 0, 'Indiana'),\n",
       "  Text(8, 0, 'Michigan'),\n",
       "  Text(9, 0, 'Massachusetts')])"
      ]
     },
     "execution_count": 14,
     "metadata": {},
     "output_type": "execute_result"
    },
    {
     "data": {
      "image/png": "[encoded data removed]",
      "text/plain": [
       "<Figure size 432x288 with 1 Axes>"
      ]
     },
     "metadata": {
      "needs_background": "light"
     },
     "output_type": "display_data"
    }
   ],
   "source": [
    "#lms high use in which state\n",
    "sns.countplot(x='state',data=df2)\n",
    "plt.xticks(rotation=90)"
   ]
  },
  {
   "cell_type": "code",
   "execution_count": 15,
   "id": "f5811471",
   "metadata": {},
   "outputs": [
    {
     "data": {
      "text/plain": [
       "<AxesSubplot:xlabel='district_name', ylabel='count'>"
      ]
     },
     "execution_count": 15,
     "metadata": {},
     "output_type": "execute_result"
    },
    {
     "data": {
      "image/png": "[encoded data removed]",
      "text/plain": [
       "<Figure size 720x360 with 1 Axes>"
      ]
     },
     "metadata": {
      "needs_background": "light"
     },
     "output_type": "display_data"
    }
   ],
   "source": [
    "plt.figure(figsize=(10,5))\n",
    "sns.countplot(x='district_name',data=df2)\n"
   ]
  },
  {
   "cell_type": "code",
   "execution_count": 16,
   "id": "726b1bab",
   "metadata": {},
   "outputs": [],
   "source": [
    "#plt.figure(figsize=(15,5))\n",
    "\n",
    "#x=np.linspace(0,70,num=10)\n",
    "#sns.(x= 'district_name',data=df2)"
   ]
  },
  {
   "cell_type": "markdown",
   "id": "3e4b93f7",
   "metadata": {},
   "source": [
    "# Question 2\n"
   ]
  },
  {
   "cell_type": "code",
   "execution_count": 17,
   "id": "1fb27841",
   "metadata": {},
   "outputs": [
    {
     "data": {
      "text/plain": [
       "<AxesSubplot:xlabel='year', ylabel='count'>"
      ]
     },
     "execution_count": 17,
     "metadata": {},
     "output_type": "execute_result"
    },
    {
     "data": {
      "image/png": "[encoded data removed]",
      "text/plain": [
       "<Figure size 432x288 with 1 Axes>"
      ]
     },
     "metadata": {
      "needs_background": "light"
     },
     "output_type": "display_data"
    }
   ],
   "source": [
    "#lms use over year\n",
    "sns.countplot(x='year',data=df)"
   ]
  },
  {
   "cell_type": "code",
   "execution_count": 18,
   "id": "4fe38e6e",
   "metadata": {},
   "outputs": [],
   "source": [
    "#lms use over year\n",
    "#sns.countplot(x='time',data=df2)"
   ]
  },
  {
   "cell_type": "code",
   "execution_count": 19,
   "id": "9a2d67b9",
   "metadata": {},
   "outputs": [
    {
     "data": {
      "text/plain": [
       "<AxesSubplot:xlabel='month', ylabel='session_id'>"
      ]
     },
     "execution_count": 19,
     "metadata": {},
     "output_type": "execute_result"
    },
    {
     "data": {
      "image/png": "[encoded data removed]",
      "text/plain": [
       "<Figure size 720x360 with 1 Axes>"
      ]
     },
     "metadata": {
      "needs_background": "light"
     },
     "output_type": "display_data"
    }
   ],
   "source": [
    "## que 2 (month v/s session_id)\n",
    "plt.figure(figsize=(10,5))\n",
    "sns.lineplot(x = 'month', y = 'session_id', data = df2)"
   ]
  },
  {
   "cell_type": "code",
   "execution_count": 20,
   "id": "8aa81720",
   "metadata": {},
   "outputs": [
    {
     "data": {
      "text/plain": [
       "<AxesSubplot:xlabel='month', ylabel='user_id'>"
      ]
     },
     "execution_count": 20,
     "metadata": {},
     "output_type": "execute_result"
    },
    {
     "data": {
      "image/png": "[encoded data removed]",
      "text/plain": [
       "<Figure size 432x288 with 1 Axes>"
      ]
     },
     "metadata": {
      "needs_background": "light"
     },
     "output_type": "display_data"
    }
   ],
   "source": [
    "sns.lineplot(x = 'month', y = 'user_id', data = df2)"
   ]
  },
  {
   "cell_type": "markdown",
   "id": "8cf834c9",
   "metadata": {},
   "source": [
    "# Question 4\n"
   ]
  },
  {
   "cell_type": "code",
   "execution_count": 21,
   "id": "c482dd49",
   "metadata": {},
   "outputs": [
    {
     "data": {
      "text/plain": [
       "<AxesSubplot:xlabel='course', ylabel='count'>"
      ]
     },
     "execution_count": 21,
     "metadata": {},
     "output_type": "execute_result"
    },
    {
     "data": {
      "image/png": "[encoded data removed]",
      "text/plain": [
       "<Figure size 432x288 with 1 Axes>"
      ]
     },
     "metadata": {
      "needs_background": "light"
     },
     "output_type": "display_data"
    }
   ],
   "source": [
    "# que 4 part1(most used course in system)\n",
    "\n",
    "sns.countplot(x = 'course', data = df2)"
   ]
  },
  {
   "cell_type": "code",
   "execution_count": 22,
   "id": "04f70cf1",
   "metadata": {},
   "outputs": [
    {
     "data": {
      "text/plain": [
       "<AxesSubplot:xlabel='month', ylabel='user_id'>"
      ]
     },
     "execution_count": 22,
     "metadata": {},
     "output_type": "execute_result"
    },
    {
     "data": {
      "image/png": "[encoded data removed]",
      "text/plain": [
       "<Figure size 432x288 with 1 Axes>"
      ]
     },
     "metadata": {
      "needs_background": "light"
     },
     "output_type": "display_data"
    }
   ],
   "source": [
    "#higly used course from users\n",
    "sns.lineplot(x='month', y='user_id', hue=\"course\", data=df2)\n"
   ]
  },
  {
   "cell_type": "code",
   "execution_count": 32,
   "id": "d716d124",
   "metadata": {
    "scrolled": true
   },
   "outputs": [
    {
     "data": {
      "text/plain": [
       "<AxesSubplot:xlabel='contenttype', ylabel='count'>"
      ]
     },
     "execution_count": 32,
     "metadata": {},
     "output_type": "execute_result"
    },
    {
     "data": {
      "image/png": "[encoded data removed]",
      "text/plain": [
       "<Figure size 720x360 with 1 Axes>"
      ]
     },
     "metadata": {
      "needs_background": "light"
     },
     "output_type": "display_data"
    }
   ],
   "source": [
    "#Q4(b)(what content is being used in highused course)\n",
    "plt.figure(figsize=(10,5))\n",
    "sns.countplot(x='contenttype', hue=\"course\", data=df2,palette='PuBuGn_r')                #Wistia,Wistia_r', 'YlGn', 'YlGnB,'PuBuGn_r'rainbow', 'rainbow_r', 'rocket', 'rocket_r',twilight', 'twilight_r', 'twilight_shifted' 'seismic'"
   ]
  },
  {
   "cell_type": "code",
   "execution_count": 31,
   "id": "9b1aa547",
   "metadata": {},
   "outputs": [
    {
     "data": {
      "text/plain": [
       "<AxesSubplot:xlabel='subject', ylabel='count'>"
      ]
     },
     "execution_count": 31,
     "metadata": {},
     "output_type": "execute_result"
    },
    {
     "data": {
      "image/png": "[encoded data removed]",
      "text/plain": [
       "<Figure size 720x288 with 1 Axes>"
      ]
     },
     "metadata": {
      "needs_background": "light"
     },
     "output_type": "display_data"
    }
   ],
   "source": [
    "plt.figure(figsize=(10,4))\n",
    "sns.countplot(x='subject', hue=\"contenttype\", data=df2,palette='PuBuGn_r')             "
   ]
  },
  {
   "cell_type": "code",
   "execution_count": 25,
   "id": "a7221761",
   "metadata": {},
   "outputs": [
    {
     "data": {
      "text/plain": [
       "(array([0, 1, 2, 3, 4, 5, 6]),\n",
       " [Text(0, 0, 'Lesson'),\n",
       "  Text(1, 0, 'Video'),\n",
       "  Text(2, 0, 'Document'),\n",
       "  Text(3, 0, 'Audio'),\n",
       "  Text(4, 0, 'Interactive Media'),\n",
       "  Text(5, 0, 'Quiz'),\n",
       "  Text(6, 0, 'Test')])"
      ]
     },
     "execution_count": 25,
     "metadata": {},
     "output_type": "execute_result"
    },
    {
     "data": {
      "image/png": "[encoded data removed]",
      "text/plain": [
       "<Figure size 432x288 with 1 Axes>"
      ]
     },
     "metadata": {
      "needs_background": "light"
     },
     "output_type": "display_data"
    }
   ],
   "source": [
    "# que 4 part2\n",
    "\n",
    "sns.countplot(x = 'contenttype', data = df2,palette='Wistia_r')   #ocean', 'ocean_r', 'pink', 'pink_r', 'plasma'\n",
    "plt.xticks(rotation = 90)"
   ]
  },
  {
   "cell_type": "code",
   "execution_count": 26,
   "id": "daaedad2",
   "metadata": {},
   "outputs": [],
   "source": [
    "# que 4 part2\n",
    "#plt.figure(figsize=(10,5))\n",
    "#sns.countplot(x = 'contenttype',hue=\"course\" ,data = df2)\n",
    "#plt.xticks(rotation = 90)"
   ]
  },
  {
   "cell_type": "markdown",
   "id": "3e4724af",
   "metadata": {},
   "source": [
    "# Question 5"
   ]
  },
  {
   "cell_type": "code",
   "execution_count": 27,
   "id": "4e358885",
   "metadata": {},
   "outputs": [],
   "source": [
    "## converting variables students & teacher as 1 & 0\n",
    "df2 = pd.get_dummies(df, columns=['userroletype'])\n",
    "#df2.dtypes"
   ]
  },
  {
   "cell_type": "code",
   "execution_count": 28,
   "id": "e8f0dd59",
   "metadata": {},
   "outputs": [
    {
     "data": {
      "text/plain": [
       "<AxesSubplot:xlabel='userroletype_Student', ylabel='count'>"
      ]
     },
     "execution_count": 28,
     "metadata": {},
     "output_type": "execute_result"
    },
    {
     "data": {
      "image/png": "[encoded data removed]",
      "text/plain": [
       "<Figure size 720x360 with 1 Axes>"
      ]
     },
     "metadata": {
      "needs_background": "light"
     },
     "output_type": "display_data"
    }
   ],
   "source": [
    "## Question 5\n",
    "plt.figure(figsize=(10,5))\n",
    "sns.countplot(x ='userroletype_Student',hue ='contenttype' ,data = df2,)"
   ]
  },
  {
   "cell_type": "code",
   "execution_count": 29,
   "id": "2c91b06e",
   "metadata": {},
   "outputs": [
    {
     "data": {
      "text/plain": [
       "<AxesSubplot:xlabel='year', ylabel='count'>"
      ]
     },
     "execution_count": 29,
     "metadata": {},
     "output_type": "execute_result"
    },
    {
     "data": {
      "image/png": "[encoded data removed]",
      "text/plain": [
       "<Figure size 720x360 with 1 Axes>"
      ]
     },
     "metadata": {
      "needs_background": "light"
     },
     "output_type": "display_data"
    }
   ],
   "source": [
    "plt.figure(figsize=(10,5))\n",
    "sns.countplot(x ='year',hue ='contenttype' ,data = df2)"
   ]
  },
  {
   "cell_type": "code",
   "execution_count": 30,
   "id": "68dbd931",
   "metadata": {},
   "outputs": [
    {
     "data": {
      "text/plain": [
       "<AxesSubplot:xlabel='month', ylabel='count'>"
      ]
     },
     "execution_count": 30,
     "metadata": {},
     "output_type": "execute_result"
    },
    {
     "data": {
      "image/png": "[encoded data removed]",
      "text/plain": [
       "<Figure size 864x432 with 1 Axes>"
      ]
     },
     "metadata": {
      "needs_background": "light"
     },
     "output_type": "display_data"
    }
   ],
   "source": [
    "plt.figure(figsize=(12,6))\n",
    "sns.countplot(x ='month',hue ='contenttype' ,data = df2)"
   ]
  },
  {
   "cell_type": "markdown",
   "id": "efa19009",
   "metadata": {},
   "source": [
    "Question 1,2,4,5"
   ]
  },
  {
   "cell_type": "code",
   "execution_count": null,
   "id": "b5d72c88",
   "metadata": {},
   "outputs": [],
   "source": []
  },
  {
   "cell_type": "code",
   "execution_count": null,
   "id": "2af6e416",
   "metadata": {},
   "outputs": [],
   "source": []
  }
 ],
 "metadata": {
  "kernelspec": {
   "display_name": "Python 3 (ipykernel)",
   "language": "python",
   "name": "python3"
  },
  "language_info": {
   "codemirror_mode": {
    "name": "ipython",
    "version": 3
   },
   "file_extension": ".py",
   "mimetype": "text/x-python",
   "name": "python",
   "nbconvert_exporter": "python",
   "pygments_lexer": "ipython3",
   "version": "3.9.7"
  }
 },
 "nbformat": 4,
 "nbformat_minor": 5
}
